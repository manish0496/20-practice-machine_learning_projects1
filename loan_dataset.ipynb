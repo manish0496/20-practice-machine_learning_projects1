{
 "cells": [
  {
   "cell_type": "code",
   "execution_count": 2,
   "metadata": {},
   "outputs": [],
   "source": [
    "import numpy as np\n",
    "import pandas as pd\n",
    "import seaborn as sns"
   ]
  },
  {
   "cell_type": "code",
   "execution_count": 3,
   "metadata": {},
   "outputs": [
    {
     "data": {
      "text/html": [
       "<div>\n",
       "<style scoped>\n",
       "    .dataframe tbody tr th:only-of-type {\n",
       "        vertical-align: middle;\n",
       "    }\n",
       "\n",
       "    .dataframe tbody tr th {\n",
       "        vertical-align: top;\n",
       "    }\n",
       "\n",
       "    .dataframe thead th {\n",
       "        text-align: right;\n",
       "    }\n",
       "</style>\n",
       "<table border=\"1\" class=\"dataframe\">\n",
       "  <thead>\n",
       "    <tr style=\"text-align: right;\">\n",
       "      <th></th>\n",
       "      <th>Loan_ID</th>\n",
       "      <th>Gender</th>\n",
       "      <th>Married</th>\n",
       "      <th>Dependents</th>\n",
       "      <th>Education</th>\n",
       "      <th>Self_Employed</th>\n",
       "      <th>ApplicantIncome</th>\n",
       "      <th>CoapplicantIncome</th>\n",
       "      <th>LoanAmount</th>\n",
       "      <th>Loan_Amount_Term</th>\n",
       "      <th>Credit_History</th>\n",
       "      <th>Property_Area</th>\n",
       "      <th>Loan_Status</th>\n",
       "    </tr>\n",
       "  </thead>\n",
       "  <tbody>\n",
       "    <tr>\n",
       "      <th>0</th>\n",
       "      <td>LP001002</td>\n",
       "      <td>Male</td>\n",
       "      <td>No</td>\n",
       "      <td>0</td>\n",
       "      <td>Graduate</td>\n",
       "      <td>No</td>\n",
       "      <td>5849</td>\n",
       "      <td>0.0</td>\n",
       "      <td>NaN</td>\n",
       "      <td>360.0</td>\n",
       "      <td>1.0</td>\n",
       "      <td>Urban</td>\n",
       "      <td>Y</td>\n",
       "    </tr>\n",
       "    <tr>\n",
       "      <th>1</th>\n",
       "      <td>LP001003</td>\n",
       "      <td>Male</td>\n",
       "      <td>Yes</td>\n",
       "      <td>1</td>\n",
       "      <td>Graduate</td>\n",
       "      <td>No</td>\n",
       "      <td>4583</td>\n",
       "      <td>1508.0</td>\n",
       "      <td>128.0</td>\n",
       "      <td>360.0</td>\n",
       "      <td>1.0</td>\n",
       "      <td>Rural</td>\n",
       "      <td>N</td>\n",
       "    </tr>\n",
       "    <tr>\n",
       "      <th>2</th>\n",
       "      <td>LP001005</td>\n",
       "      <td>Male</td>\n",
       "      <td>Yes</td>\n",
       "      <td>0</td>\n",
       "      <td>Graduate</td>\n",
       "      <td>Yes</td>\n",
       "      <td>3000</td>\n",
       "      <td>0.0</td>\n",
       "      <td>66.0</td>\n",
       "      <td>360.0</td>\n",
       "      <td>1.0</td>\n",
       "      <td>Urban</td>\n",
       "      <td>Y</td>\n",
       "    </tr>\n",
       "    <tr>\n",
       "      <th>3</th>\n",
       "      <td>LP001006</td>\n",
       "      <td>Male</td>\n",
       "      <td>Yes</td>\n",
       "      <td>0</td>\n",
       "      <td>Not Graduate</td>\n",
       "      <td>No</td>\n",
       "      <td>2583</td>\n",
       "      <td>2358.0</td>\n",
       "      <td>120.0</td>\n",
       "      <td>360.0</td>\n",
       "      <td>1.0</td>\n",
       "      <td>Urban</td>\n",
       "      <td>Y</td>\n",
       "    </tr>\n",
       "    <tr>\n",
       "      <th>4</th>\n",
       "      <td>LP001008</td>\n",
       "      <td>Male</td>\n",
       "      <td>No</td>\n",
       "      <td>0</td>\n",
       "      <td>Graduate</td>\n",
       "      <td>No</td>\n",
       "      <td>6000</td>\n",
       "      <td>0.0</td>\n",
       "      <td>141.0</td>\n",
       "      <td>360.0</td>\n",
       "      <td>1.0</td>\n",
       "      <td>Urban</td>\n",
       "      <td>Y</td>\n",
       "    </tr>\n",
       "  </tbody>\n",
       "</table>\n",
       "</div>"
      ],
      "text/plain": [
       "    Loan_ID Gender Married Dependents     Education Self_Employed  \\\n",
       "0  LP001002   Male      No          0      Graduate            No   \n",
       "1  LP001003   Male     Yes          1      Graduate            No   \n",
       "2  LP001005   Male     Yes          0      Graduate           Yes   \n",
       "3  LP001006   Male     Yes          0  Not Graduate            No   \n",
       "4  LP001008   Male      No          0      Graduate            No   \n",
       "\n",
       "   ApplicantIncome  CoapplicantIncome  LoanAmount  Loan_Amount_Term  \\\n",
       "0             5849                0.0         NaN             360.0   \n",
       "1             4583             1508.0       128.0             360.0   \n",
       "2             3000                0.0        66.0             360.0   \n",
       "3             2583             2358.0       120.0             360.0   \n",
       "4             6000                0.0       141.0             360.0   \n",
       "\n",
       "   Credit_History Property_Area Loan_Status  \n",
       "0             1.0         Urban           Y  \n",
       "1             1.0         Rural           N  \n",
       "2             1.0         Urban           Y  \n",
       "3             1.0         Urban           Y  \n",
       "4             1.0         Urban           Y  "
      ]
     },
     "execution_count": 3,
     "metadata": {},
     "output_type": "execute_result"
    }
   ],
   "source": [
    "#lets import the data set\n",
    "import pandas as pd\n",
    "df_loan=pd.read_csv(\"train_loanPrediction.csv\")\n",
    "df_loan.head()"
   ]
  },
  {
   "cell_type": "code",
   "execution_count": 4,
   "metadata": {},
   "outputs": [
    {
     "name": "stdout",
     "output_type": "stream",
     "text": [
      "Column data type : object  column name : Loan_ID  Null values:  0\n",
      "Column data type : object  column name : Gender  Null values:  13\n",
      "Column data type : object  column name : Married  Null values:  3\n",
      "Column data type : object  column name : Dependents  Null values:  15\n",
      "Column data type : object  column name : Education  Null values:  0\n",
      "Column data type : object  column name : Self_Employed  Null values:  32\n",
      "Column data type : int64  column name : ApplicantIncome  Null values:  0\n",
      "Column data type : float64  column name : CoapplicantIncome  Null values:  0\n",
      "Column data type : float64  column name : LoanAmount  Null values:  22\n",
      "Column data type : float64  column name : Loan_Amount_Term  Null values:  14\n",
      "Column data type : float64  column name : Credit_History  Null values:  50\n",
      "Column data type : object  column name : Property_Area  Null values:  0\n",
      "Column data type : object  column name : Loan_Status  Null values:  0\n"
     ]
    }
   ],
   "source": [
    "#Lets chcek the null values \n",
    "for col in df_loan.columns:\n",
    "    print(\"Column data type :\",df_loan[col].dtype,\" column name :\",col,\" Null values: \",df_loan[col].isnull().sum())\n",
    "#Below o/p shows presense of null values in each column   "
   ]
  },
  {
   "cell_type": "code",
   "execution_count": 5,
   "metadata": {},
   "outputs": [
    {
     "data": {
      "text/html": [
       "<div>\n",
       "<style scoped>\n",
       "    .dataframe tbody tr th:only-of-type {\n",
       "        vertical-align: middle;\n",
       "    }\n",
       "\n",
       "    .dataframe tbody tr th {\n",
       "        vertical-align: top;\n",
       "    }\n",
       "\n",
       "    .dataframe thead th {\n",
       "        text-align: right;\n",
       "    }\n",
       "</style>\n",
       "<table border=\"1\" class=\"dataframe\">\n",
       "  <thead>\n",
       "    <tr style=\"text-align: right;\">\n",
       "      <th></th>\n",
       "      <th>ApplicantIncome</th>\n",
       "      <th>CoapplicantIncome</th>\n",
       "      <th>LoanAmount</th>\n",
       "      <th>Loan_Amount_Term</th>\n",
       "      <th>Credit_History</th>\n",
       "    </tr>\n",
       "  </thead>\n",
       "  <tbody>\n",
       "    <tr>\n",
       "      <th>ApplicantIncome</th>\n",
       "      <td>1.000000</td>\n",
       "      <td>-0.116605</td>\n",
       "      <td>0.570909</td>\n",
       "      <td>-0.045306</td>\n",
       "      <td>-0.014715</td>\n",
       "    </tr>\n",
       "    <tr>\n",
       "      <th>CoapplicantIncome</th>\n",
       "      <td>-0.116605</td>\n",
       "      <td>1.000000</td>\n",
       "      <td>0.188619</td>\n",
       "      <td>-0.059878</td>\n",
       "      <td>-0.002056</td>\n",
       "    </tr>\n",
       "    <tr>\n",
       "      <th>LoanAmount</th>\n",
       "      <td>0.570909</td>\n",
       "      <td>0.188619</td>\n",
       "      <td>1.000000</td>\n",
       "      <td>0.039447</td>\n",
       "      <td>-0.008433</td>\n",
       "    </tr>\n",
       "    <tr>\n",
       "      <th>Loan_Amount_Term</th>\n",
       "      <td>-0.045306</td>\n",
       "      <td>-0.059878</td>\n",
       "      <td>0.039447</td>\n",
       "      <td>1.000000</td>\n",
       "      <td>0.001470</td>\n",
       "    </tr>\n",
       "    <tr>\n",
       "      <th>Credit_History</th>\n",
       "      <td>-0.014715</td>\n",
       "      <td>-0.002056</td>\n",
       "      <td>-0.008433</td>\n",
       "      <td>0.001470</td>\n",
       "      <td>1.000000</td>\n",
       "    </tr>\n",
       "  </tbody>\n",
       "</table>\n",
       "</div>"
      ],
      "text/plain": [
       "                   ApplicantIncome  CoapplicantIncome  LoanAmount  \\\n",
       "ApplicantIncome           1.000000          -0.116605    0.570909   \n",
       "CoapplicantIncome        -0.116605           1.000000    0.188619   \n",
       "LoanAmount                0.570909           0.188619    1.000000   \n",
       "Loan_Amount_Term         -0.045306          -0.059878    0.039447   \n",
       "Credit_History           -0.014715          -0.002056   -0.008433   \n",
       "\n",
       "                   Loan_Amount_Term  Credit_History  \n",
       "ApplicantIncome           -0.045306       -0.014715  \n",
       "CoapplicantIncome         -0.059878       -0.002056  \n",
       "LoanAmount                 0.039447       -0.008433  \n",
       "Loan_Amount_Term           1.000000        0.001470  \n",
       "Credit_History             0.001470        1.000000  "
      ]
     },
     "execution_count": 5,
     "metadata": {},
     "output_type": "execute_result"
    }
   ],
   "source": [
    "#Lets check the corrrelation matrix\n",
    "df_loan.corr()"
   ]
  },
  {
   "cell_type": "code",
   "execution_count": 6,
   "metadata": {},
   "outputs": [
    {
     "data": {
      "text/html": [
       "<div>\n",
       "<style scoped>\n",
       "    .dataframe tbody tr th:only-of-type {\n",
       "        vertical-align: middle;\n",
       "    }\n",
       "\n",
       "    .dataframe tbody tr th {\n",
       "        vertical-align: top;\n",
       "    }\n",
       "\n",
       "    .dataframe thead th {\n",
       "        text-align: right;\n",
       "    }\n",
       "</style>\n",
       "<table border=\"1\" class=\"dataframe\">\n",
       "  <thead>\n",
       "    <tr style=\"text-align: right;\">\n",
       "      <th></th>\n",
       "      <th>ApplicantIncome</th>\n",
       "      <th>CoapplicantIncome</th>\n",
       "      <th>LoanAmount</th>\n",
       "      <th>Loan_Amount_Term</th>\n",
       "      <th>Credit_History</th>\n",
       "    </tr>\n",
       "  </thead>\n",
       "  <tbody>\n",
       "    <tr>\n",
       "      <th>count</th>\n",
       "      <td>614.000000</td>\n",
       "      <td>614.000000</td>\n",
       "      <td>592.000000</td>\n",
       "      <td>600.00000</td>\n",
       "      <td>564.000000</td>\n",
       "    </tr>\n",
       "    <tr>\n",
       "      <th>mean</th>\n",
       "      <td>5403.459283</td>\n",
       "      <td>1621.245798</td>\n",
       "      <td>146.412162</td>\n",
       "      <td>342.00000</td>\n",
       "      <td>0.842199</td>\n",
       "    </tr>\n",
       "    <tr>\n",
       "      <th>std</th>\n",
       "      <td>6109.041673</td>\n",
       "      <td>2926.248369</td>\n",
       "      <td>85.587325</td>\n",
       "      <td>65.12041</td>\n",
       "      <td>0.364878</td>\n",
       "    </tr>\n",
       "    <tr>\n",
       "      <th>min</th>\n",
       "      <td>150.000000</td>\n",
       "      <td>0.000000</td>\n",
       "      <td>9.000000</td>\n",
       "      <td>12.00000</td>\n",
       "      <td>0.000000</td>\n",
       "    </tr>\n",
       "    <tr>\n",
       "      <th>25%</th>\n",
       "      <td>2877.500000</td>\n",
       "      <td>0.000000</td>\n",
       "      <td>100.000000</td>\n",
       "      <td>360.00000</td>\n",
       "      <td>1.000000</td>\n",
       "    </tr>\n",
       "    <tr>\n",
       "      <th>50%</th>\n",
       "      <td>3812.500000</td>\n",
       "      <td>1188.500000</td>\n",
       "      <td>128.000000</td>\n",
       "      <td>360.00000</td>\n",
       "      <td>1.000000</td>\n",
       "    </tr>\n",
       "    <tr>\n",
       "      <th>75%</th>\n",
       "      <td>5795.000000</td>\n",
       "      <td>2297.250000</td>\n",
       "      <td>168.000000</td>\n",
       "      <td>360.00000</td>\n",
       "      <td>1.000000</td>\n",
       "    </tr>\n",
       "    <tr>\n",
       "      <th>max</th>\n",
       "      <td>81000.000000</td>\n",
       "      <td>41667.000000</td>\n",
       "      <td>700.000000</td>\n",
       "      <td>480.00000</td>\n",
       "      <td>1.000000</td>\n",
       "    </tr>\n",
       "  </tbody>\n",
       "</table>\n",
       "</div>"
      ],
      "text/plain": [
       "       ApplicantIncome  CoapplicantIncome  LoanAmount  Loan_Amount_Term  \\\n",
       "count       614.000000         614.000000  592.000000         600.00000   \n",
       "mean       5403.459283        1621.245798  146.412162         342.00000   \n",
       "std        6109.041673        2926.248369   85.587325          65.12041   \n",
       "min         150.000000           0.000000    9.000000          12.00000   \n",
       "25%        2877.500000           0.000000  100.000000         360.00000   \n",
       "50%        3812.500000        1188.500000  128.000000         360.00000   \n",
       "75%        5795.000000        2297.250000  168.000000         360.00000   \n",
       "max       81000.000000       41667.000000  700.000000         480.00000   \n",
       "\n",
       "       Credit_History  \n",
       "count      564.000000  \n",
       "mean         0.842199  \n",
       "std          0.364878  \n",
       "min          0.000000  \n",
       "25%          1.000000  \n",
       "50%          1.000000  \n",
       "75%          1.000000  \n",
       "max          1.000000  "
      ]
     },
     "execution_count": 6,
     "metadata": {},
     "output_type": "execute_result"
    }
   ],
   "source": [
    "#Lets describe the dataset\n",
    "df_loan.describe()\n",
    "#there is difference between mean value and median so there can outliers present in the data set"
   ]
  },
  {
   "cell_type": "code",
   "execution_count": 7,
   "metadata": {},
   "outputs": [
    {
     "data": {
      "image/png": "[encoded data removed]",
      "text/plain": [
       "<Figure size 432x288 with 1 Axes>"
      ]
     },
     "metadata": {},
     "output_type": "display_data"
    }
   ],
   "source": [
    "#Lets chcek the count of each type of class in loan status \n",
    "import matplotlib.pyplot as plt\n",
    "import seaborn as sns\n",
    "sns.countplot(x=\"Loan_Status\",data=df_loan)\n",
    "plt.show()\n",
    "#imbalanced dataset problem so we can use SMOTE just to increase instances of minority classes in training dataset"
   ]
  },
  {
   "cell_type": "code",
   "execution_count": 8,
   "metadata": {},
   "outputs": [
    {
     "data": {
      "image/png": "[encoded data removed]",
      "text/plain": [
       "<Figure size 432x288 with 1 Axes>"
      ]
     },
     "metadata": {},
     "output_type": "display_data"
    }
   ],
   "source": [
    "#lets check the count of loan status considering \"Self_Employed\"\n",
    "sns.countplot(x=\"Loan_Status\",hue=\"Self_Employed\",data=df_loan)\n",
    "plt.show()"
   ]
  },
  {
   "cell_type": "code",
   "execution_count": 9,
   "metadata": {},
   "outputs": [
    {
     "data": {
      "image/png": "[encoded data removed]",
      "text/plain": [
       "<Figure size 432x288 with 1 Axes>"
      ]
     },
     "metadata": {},
     "output_type": "display_data"
    }
   ],
   "source": [
    "#Lets check the count based on \"Education\"\n",
    "sns.countplot(x=\"Loan_Status\",hue=\"Education\",data=df_loan)\n",
    "plt.show()\n",
    "#people who are graduated has tendency of getting loans than who are not"
   ]
  },
  {
   "cell_type": "code",
   "execution_count": 10,
   "metadata": {},
   "outputs": [
    {
     "data": {
      "image/png": "[encoded data removed]",
      "text/plain": [
       "<Figure size 432x288 with 1 Axes>"
      ]
     },
     "metadata": {},
     "output_type": "display_data"
    }
   ],
   "source": [
    "#lets chcek loan status based on gender\n",
    "sns.countplot(x=\"Loan_Status\",hue=\"Gender\",data=df_loan)\n",
    "plt.show()\n",
    "#there are more number of males applying fro the loans comapred to female"
   ]
  },
  {
   "cell_type": "code",
   "execution_count": 11,
   "metadata": {},
   "outputs": [
    {
     "data": {
      "image/png": "[encoded data removed]",
      "text/plain": [
       "<Figure size 432x288 with 1 Axes>"
      ]
     },
     "metadata": {},
     "output_type": "display_data"
    }
   ],
   "source": [
    "#lets chcek the loan status based on property area\n",
    "sns.countplot(x=\"Loan_Status\",hue=\"Property_Area\",data=df_loan)\n",
    "plt.show()"
   ]
  },
  {
   "cell_type": "code",
   "execution_count": 12,
   "metadata": {},
   "outputs": [
    {
     "data": {
      "image/png": "[encoded data removed]",
      "text/plain": [
       "<Figure size 432x288 with 1 Axes>"
      ]
     },
     "metadata": {},
     "output_type": "display_data"
    }
   ],
   "source": [
    "#Lets chcek the count based on marital status\n",
    "sns.countplot(x=\"Married\",hue=\"Loan_Status\",data=df_loan)\n",
    "plt.show()\n",
    "#ration of people geting loans to not getting loans when they are married is high"
   ]
  },
  {
   "cell_type": "code",
   "execution_count": 13,
   "metadata": {},
   "outputs": [
    {
     "data": {
      "image/png": "[encoded data removed]",
      "text/plain": [
       "<Figure size 432x288 with 1 Axes>"
      ]
     },
     "metadata": {},
     "output_type": "display_data"
    }
   ],
   "source": [
    "#Lets chcek loan status for applicant income greater than 5000\n",
    "sns.countplot(x=\"Loan_Status\",data=df_loan.loc[df_loan[\"ApplicantIncome\"]>5000])\n",
    "plt.show()\n",
    "#people whose loan was sanctioned are more than double of prople whose loan was not sanctioned"
   ]
  },
  {
   "cell_type": "code",
   "execution_count": 14,
   "metadata": {},
   "outputs": [
    {
     "data": {
      "image/png": "[encoded data removed]",
      "text/plain": [
       "<Figure size 432x288 with 1 Axes>"
      ]
     },
     "metadata": {},
     "output_type": "display_data"
    }
   ],
   "source": [
    "#Lets chcek what is the effect on above count if co-aplicant income is 0\n",
    "sns.countplot(x=\"Loan_Status\",data=df_loan.loc[(df_loan[\"ApplicantIncome\"]>5000)&(df_loan[\"CoapplicantIncome\"]==0)])\n",
    "plt.show()\n",
    "#count reduced but still ratio is almost same"
   ]
  },
  {
   "cell_type": "code",
   "execution_count": 15,
   "metadata": {},
   "outputs": [
    {
     "data": {
      "image/png": "[encoded data removed]",
      "text/plain": [
       "<Figure size 432x288 with 1 Axes>"
      ]
     },
     "metadata": {},
     "output_type": "display_data"
    }
   ],
   "source": [
    "#lets compare the average loan amount between self employed and not self employed\n",
    "sns.barplot(y=\"LoanAmount\",x=\"Self_Employed\",data=df_loan)\n",
    "plt.show()\n",
    "#avaerge loan amount demanded by the self employed is more but there is not too much difference"
   ]
  },
  {
   "cell_type": "code",
   "execution_count": 16,
   "metadata": {},
   "outputs": [
    {
     "data": {
      "image/png": "[encoded data removed]",
      "text/plain": [
       "<Figure size 432x288 with 1 Axes>"
      ]
     },
     "metadata": {},
     "output_type": "display_data"
    }
   ],
   "source": [
    "#Lets compare the average income of employed and self employed\n",
    "sns.barplot(y=\"ApplicantIncome\",x=\"Self_Employed\",data=df_loan)\n",
    "plt.show()\n",
    "#Average income is also"
   ]
  },
  {
   "cell_type": "code",
   "execution_count": 17,
   "metadata": {},
   "outputs": [
    {
     "data": {
      "image/png": "[encoded data removed]",
      "text/plain": [
       "<Figure size 432x288 with 1 Axes>"
      ]
     },
     "metadata": {},
     "output_type": "display_data"
    }
   ],
   "source": [
    "#Lets compare the count of people who got loans and who didn't\n",
    "sns.countplot(x=\"Loan_Status\",data=df_loan.loc[df_loan[\"Self_Employed\"]==\"Yes\"])\n",
    "plt.show()\n",
    "#there are more than double who got loan\n",
    "#next step is to compare the average income of people who got loan and who didn't ,given they are self employed"
   ]
  },
  {
   "cell_type": "code",
   "execution_count": 18,
   "metadata": {},
   "outputs": [
    {
     "data": {
      "image/png": "[encoded data removed]",
      "text/plain": [
       "<Figure size 432x288 with 1 Axes>"
      ]
     },
     "metadata": {},
     "output_type": "display_data"
    }
   ],
   "source": [
    "sns.barplot(y=\"ApplicantIncome\",x=\"Loan_Status\",data=df_loan.loc[df_loan[\"Self_Employed\"]==\"Yes\"])\n",
    "plt.show()\n",
    "#So people who got loan has averge income more and it is expected"
   ]
  },
  {
   "cell_type": "code",
   "execution_count": 19,
   "metadata": {},
   "outputs": [
    {
     "data": {
      "image/png": "[encoded data removed]",
      "text/plain": [
       "<Figure size 432x288 with 1 Axes>"
      ]
     },
     "metadata": {},
     "output_type": "display_data"
    }
   ],
   "source": [
    "# let's chcek the average loan amount as per Dependents\n",
    "sns.barplot(y=\"ApplicantIncome\",x=\"Dependents\",data=df_loan)\n",
    "plt.show()\n",
    "#Average income of dependents of with 2 is less than with 1"
   ]
  },
  {
   "cell_type": "code",
   "execution_count": 20,
   "metadata": {},
   "outputs": [
    {
     "data": {
      "image/png": "[encoded data removed]",
      "text/plain": [
       "<Figure size 432x288 with 1 Axes>"
      ]
     },
     "metadata": {},
     "output_type": "display_data"
    }
   ],
   "source": [
    "#lets chcek the average loan amount requested\n",
    "sns.barplot(y=\"LoanAmount\",x=\"Dependents\",data=df_loan)\n",
    "plt.show()\n",
    "#Averge loan amount by person with dependents more 3 is highest"
   ]
  },
  {
   "cell_type": "code",
   "execution_count": 21,
   "metadata": {},
   "outputs": [
    {
     "data": {
      "text/plain": [
       "<matplotlib.axes._subplots.AxesSubplot at 0x1ec1f4d2470>"
      ]
     },
     "execution_count": 21,
     "metadata": {},
     "output_type": "execute_result"
    },
    {
     "data": {
      "image/png": "[encoded data removed]",
      "text/plain": [
       "<Figure size 432x288 with 1 Axes>"
      ]
     },
     "metadata": {},
     "output_type": "display_data"
    }
   ],
   "source": [
    "#Average loan amount requested groupped by Loan_Amount_Term\n",
    "sns.barplot(x=\"Loan_Amount_Term\",y=\"LoanAmount\",data=df_loan)"
   ]
  },
  {
   "cell_type": "code",
   "execution_count": 22,
   "metadata": {},
   "outputs": [
    {
     "name": "stdout",
     "output_type": "stream",
     "text": [
      "Column data type : object  column name : Loan_ID  Null values:  0\n",
      "Column data type : object  column name : Gender  Null values:  13\n",
      "Column data type : object  column name : Married  Null values:  3\n",
      "Column data type : object  column name : Dependents  Null values:  15\n",
      "Column data type : object  column name : Education  Null values:  0\n",
      "Column data type : object  column name : Self_Employed  Null values:  32\n",
      "Column data type : int64  column name : ApplicantIncome  Null values:  0\n",
      "Column data type : float64  column name : CoapplicantIncome  Null values:  0\n",
      "Column data type : float64  column name : LoanAmount  Null values:  22\n",
      "Column data type : float64  column name : Loan_Amount_Term  Null values:  14\n",
      "Column data type : float64  column name : Credit_History  Null values:  50\n",
      "Column data type : object  column name : Property_Area  Null values:  0\n",
      "Column data type : object  column name : Loan_Status  Null values:  0\n"
     ]
    }
   ],
   "source": [
    "#we have seen there are null values  \n",
    "for col in df_loan.columns:\n",
    "    print(\"Column data type :\",df_loan[col].dtype,\" column name :\",col,\" Null values: \",df_loan[col].isnull().sum())"
   ]
  },
  {
   "cell_type": "code",
   "execution_count": 23,
   "metadata": {},
   "outputs": [],
   "source": [
    "#lets impute the object datatype columns by mode groupped by same target class\n",
    "for col in df_loan.columns:\n",
    "    if df_loan[col].dtype==\"object\" and df_loan[col].isnull().sum()>0:\n",
    "        df_loan.loc[df_loan[\"Loan_Status\"]==\"Y\",[col]]=df_loan.loc[df_loan[\"Loan_Status\"]==\"Y\",[col]].fillna(df_loan.loc[df_loan[\"Loan_Status\"]==\"Y\",[col]].mode().iloc[0])\n",
    "        df_loan.loc[df_loan[\"Loan_Status\"]==\"N\",[col]]=df_loan.loc[df_loan[\"Loan_Status\"]==\"N\",[col]].fillna(df_loan.loc[df_loan[\"Loan_Status\"]==\"N\",[col]].mode().iloc[0])"
   ]
  },
  {
   "cell_type": "code",
   "execution_count": 159,
   "metadata": {},
   "outputs": [
    {
     "data": {
      "text/plain": [
       "Loan_ID               0\n",
       "Gender                0\n",
       "Married               0\n",
       "Dependents            0\n",
       "Education             0\n",
       "Self_Employed         0\n",
       "ApplicantIncome       0\n",
       "CoapplicantIncome     0\n",
       "LoanAmount           22\n",
       "Loan_Amount_Term     14\n",
       "Credit_History       50\n",
       "Property_Area         0\n",
       "Loan_Status           0\n",
       "dtype: int64"
      ]
     },
     "execution_count": 159,
     "metadata": {},
     "output_type": "execute_result"
    }
   ],
   "source": [
    "#Lets again chcek the null values\n",
    "df_loan.isnull().sum()"
   ]
  },
  {
   "cell_type": "code",
   "execution_count": 24,
   "metadata": {},
   "outputs": [],
   "source": [
    "#Loan amount can be imputed by mean grouped by classes\n",
    "df_loan.loc[df_loan[\"Loan_Status\"]==\"Y\",[\"LoanAmount\"]]=df_loan.loc[df_loan[\"Loan_Status\"]==\"Y\",[\"LoanAmount\"]].fillna(df_loan.loc[df_loan[\"Loan_Status\"]==\"Y\",[\"LoanAmount\"]].mean())\n",
    "df_loan.loc[df_loan[\"Loan_Status\"]==\"N\",[\"LoanAmount\"]]=df_loan.loc[df_loan[\"Loan_Status\"]==\"N\",[\"LoanAmount\"]].fillna(df_loan.loc[df_loan[\"Loan_Status\"]==\"N\",[\"LoanAmount\"]].mean())"
   ]
  },
  {
   "cell_type": "code",
   "execution_count": 161,
   "metadata": {},
   "outputs": [
    {
     "data": {
      "text/plain": [
       "Loan_ID               0\n",
       "Gender                0\n",
       "Married               0\n",
       "Dependents            0\n",
       "Education             0\n",
       "Self_Employed         0\n",
       "ApplicantIncome       0\n",
       "CoapplicantIncome     0\n",
       "LoanAmount            0\n",
       "Loan_Amount_Term     14\n",
       "Credit_History       50\n",
       "Property_Area         0\n",
       "Loan_Status           0\n",
       "dtype: int64"
      ]
     },
     "execution_count": 161,
     "metadata": {},
     "output_type": "execute_result"
    }
   ],
   "source": [
    "#lets chcek Null values again\n",
    "df_loan.isnull().sum()"
   ]
  },
  {
   "cell_type": "code",
   "execution_count": 25,
   "metadata": {},
   "outputs": [],
   "source": [
    "#Lets impute rest of the columns with mode as they seem to be of categorical type\n",
    "for col in df_loan.columns:\n",
    "    if df_loan[col].isnull().sum()>0:\n",
    "        df_loan.loc[df_loan[\"Loan_Status\"]==\"Y\",[col]]=df_loan.loc[df_loan[\"Loan_Status\"]==\"Y\",[col]].fillna(df_loan.loc[df_loan[\"Loan_Status\"]==\"Y\",[col]].mode().iloc[0])\n",
    "        df_loan.loc[df_loan[\"Loan_Status\"]==\"N\",[col]]=df_loan.loc[df_loan[\"Loan_Status\"]==\"N\",[col]].fillna(df_loan.loc[df_loan[\"Loan_Status\"]==\"N\",[col]].mode().iloc[0])"
   ]
  },
  {
   "cell_type": "code",
   "execution_count": 165,
   "metadata": {},
   "outputs": [
    {
     "data": {
      "text/plain": [
       "Loan_ID              0\n",
       "Gender               0\n",
       "Married              0\n",
       "Dependents           0\n",
       "Education            0\n",
       "Self_Employed        0\n",
       "ApplicantIncome      0\n",
       "CoapplicantIncome    0\n",
       "LoanAmount           0\n",
       "Loan_Amount_Term     0\n",
       "Credit_History       0\n",
       "Property_Area        0\n",
       "Loan_Status          0\n",
       "dtype: int64"
      ]
     },
     "execution_count": 165,
     "metadata": {},
     "output_type": "execute_result"
    }
   ],
   "source": [
    "#lets again check null values\n",
    "df_loan.isnull().sum()"
   ]
  },
  {
   "cell_type": "code",
   "execution_count": 26,
   "metadata": {},
   "outputs": [
    {
     "data": {
      "text/plain": [
       "ApplicantIncome      6.539513\n",
       "CoapplicantIncome    7.491531\n",
       "LoanAmount           2.724592\n",
       "Loan_Amount_Term    -2.402112\n",
       "Credit_History      -2.021971\n",
       "dtype: float64"
      ]
     },
     "execution_count": 26,
     "metadata": {},
     "output_type": "execute_result"
    }
   ],
   "source": [
    "#lets check the skewness of the dataset\n",
    "df_loan.skew()"
   ]
  },
  {
   "cell_type": "code",
   "execution_count": 27,
   "metadata": {},
   "outputs": [],
   "source": [
    "#dividing it into input and output\n",
    "df_x=df_loan.drop(columns=[\"Loan_Status\"])\n",
    "y=df_loan[[\"Loan_Status\"]]"
   ]
  },
  {
   "cell_type": "code",
   "execution_count": 28,
   "metadata": {},
   "outputs": [],
   "source": [
    "import numpy as np\n",
    "for index in df_x.skew().index:\n",
    "    if df_x.skew().loc[index]>0.5:\n",
    "        df_x[index]=np.log1p(df_x[index])"
   ]
  },
  {
   "cell_type": "code",
   "execution_count": 29,
   "metadata": {},
   "outputs": [
    {
     "data": {
      "text/plain": [
       "ApplicantIncome      0.482128\n",
       "CoapplicantIncome   -0.173073\n",
       "LoanAmount          -0.181343\n",
       "Loan_Amount_Term    -2.402112\n",
       "Credit_History      -2.021971\n",
       "dtype: float64"
      ]
     },
     "execution_count": 29,
     "metadata": {},
     "output_type": "execute_result"
    }
   ],
   "source": [
    "#lets chcek the skewness\n",
    "df_x.skew()"
   ]
  },
  {
   "cell_type": "code",
   "execution_count": 30,
   "metadata": {},
   "outputs": [
    {
     "data": {
      "text/plain": [
       "Loan_ID               object\n",
       "Gender                object\n",
       "Married               object\n",
       "Dependents            object\n",
       "Education             object\n",
       "Self_Employed         object\n",
       "ApplicantIncome      float64\n",
       "CoapplicantIncome    float64\n",
       "LoanAmount           float64\n",
       "Loan_Amount_Term     float64\n",
       "Credit_History       float64\n",
       "Property_Area         object\n",
       "dtype: object"
      ]
     },
     "execution_count": 30,
     "metadata": {},
     "output_type": "execute_result"
    }
   ],
   "source": [
    "#Lets chcek the datatypes in input dataset\n",
    "df_x.dtypes"
   ]
  },
  {
   "cell_type": "code",
   "execution_count": 31,
   "metadata": {},
   "outputs": [],
   "source": [
    "#we can delete loan id as it has no significance in prediction\n",
    "df_x.drop(columns=[\"Loan_ID\"],inplace=True)"
   ]
  },
  {
   "cell_type": "code",
   "execution_count": 32,
   "metadata": {},
   "outputs": [],
   "source": [
    "df_x=pd.get_dummies(df_x,drop_first=True)"
   ]
  },
  {
   "cell_type": "code",
   "execution_count": 33,
   "metadata": {},
   "outputs": [
    {
     "data": {
      "text/plain": [
       "(614, 14)"
      ]
     },
     "execution_count": 33,
     "metadata": {},
     "output_type": "execute_result"
    }
   ],
   "source": [
    "#Lets chcek the shape\n",
    "df_x.shape"
   ]
  },
  {
   "cell_type": "code",
   "execution_count": 34,
   "metadata": {},
   "outputs": [],
   "source": [
    "#lets bring all features to a common scale using\n",
    "from sklearn.preprocessing import StandardScaler\n",
    "sc=StandardScaler()\n",
    "sc.fit(df_x)\n",
    "x=sc.transform(df_x)\n",
    "x=pd.DataFrame(x,columns=df_x.columns)"
   ]
  },
  {
   "cell_type": "code",
   "execution_count": 176,
   "metadata": {},
   "outputs": [
    {
     "name": "stderr",
     "output_type": "stream",
     "text": [
      "F:\\anaconda3\\lib\\site-packages\\sklearn\\preprocessing\\label.py:219: DataConversionWarning: A column-vector y was passed when a 1d array was expected. Please change the shape of y to (n_samples, ), for example using ravel().\n",
      "  y = column_or_1d(y, warn=True)\n",
      "F:\\anaconda3\\lib\\site-packages\\sklearn\\preprocessing\\label.py:252: DataConversionWarning: A column-vector y was passed when a 1d array was expected. Please change the shape of y to (n_samples, ), for example using ravel().\n",
      "  y = column_or_1d(y, warn=True)\n"
     ]
    },
    {
     "data": {
      "text/plain": [
       "array([1, 0, 1, 1, 1, 1, 1, 0, 1, 0, 1, 1, 1, 0, 1, 1, 1, 0, 0, 1, 0, 1,\n",
       "       0, 0, 0, 1, 1, 1, 0, 1, 0, 0, 0, 1, 0, 1, 0, 1, 1, 1, 0, 1, 1, 1,\n",
       "       1, 1, 1, 1, 0, 1, 1, 1, 0, 0, 0, 1, 1, 0, 1, 1, 1, 1, 0, 0, 0, 0,\n",
       "       0, 1, 1, 0, 1, 1, 1, 0, 1, 0, 0, 0, 0, 1, 1, 1, 0, 0, 1, 1, 1, 1,\n",
       "       1, 1, 1, 1, 1, 1, 1, 0, 1, 1, 1, 1, 1, 1, 1, 1, 1, 1, 1, 0, 0, 1,\n",
       "       1, 1, 0, 1, 1, 1, 1, 1, 0, 1, 1, 1, 1, 1, 1, 1, 1, 1, 0, 0, 1, 1,\n",
       "       1, 1, 1, 0, 0, 1, 0, 0, 0, 1, 1, 1, 1, 1, 1, 1, 0, 1, 0, 1, 0, 0,\n",
       "       1, 1, 1, 1, 1, 1, 1, 0, 0, 1, 1, 1, 0, 1, 0, 1, 1, 1, 0, 1, 0, 1,\n",
       "       1, 0, 1, 0, 0, 0, 1, 0, 1, 1, 0, 1, 1, 1, 1, 0, 0, 1, 1, 0, 1, 1,\n",
       "       1, 0, 1, 1, 0, 1, 1, 1, 1, 1, 1, 0, 0, 0, 1, 1, 1, 1, 0, 1, 0, 1,\n",
       "       0, 1, 1, 1, 1, 0, 0, 1, 1, 1, 1, 1, 1, 1, 1, 1, 0, 1, 1, 1, 1, 0,\n",
       "       1, 1, 1, 0, 1, 1, 1, 1, 0, 0, 1, 1, 0, 1, 0, 0, 0, 0, 1, 1, 0, 1,\n",
       "       1, 1, 1, 1, 0, 1, 1, 1, 1, 1, 1, 1, 1, 1, 1, 1, 0, 1, 1, 1, 0, 1,\n",
       "       0, 1, 1, 1, 1, 0, 1, 0, 1, 1, 1, 1, 0, 0, 0, 1, 1, 1, 1, 0, 1, 0,\n",
       "       0, 1, 1, 1, 1, 1, 0, 1, 1, 1, 1, 0, 1, 1, 1, 1, 1, 0, 1, 1, 0, 1,\n",
       "       1, 1, 1, 1, 1, 1, 1, 1, 0, 1, 0, 0, 1, 1, 1, 1, 0, 1, 1, 1, 1, 0,\n",
       "       1, 0, 1, 1, 1, 0, 0, 1, 0, 1, 1, 1, 1, 0, 0, 0, 1, 0, 1, 1, 1, 0,\n",
       "       1, 1, 1, 1, 0, 1, 1, 1, 1, 1, 0, 1, 1, 0, 1, 1, 1, 1, 1, 1, 1, 1,\n",
       "       0, 1, 1, 0, 0, 0, 1, 1, 0, 1, 1, 1, 0, 0, 0, 1, 0, 1, 0, 1, 0, 0,\n",
       "       1, 1, 1, 0, 1, 0, 1, 1, 0, 1, 1, 1, 1, 0, 1, 1, 1, 1, 1, 1, 0, 1,\n",
       "       1, 1, 1, 1, 1, 1, 1, 0, 0, 0, 0, 1, 0, 1, 1, 1, 1, 0, 1, 0, 1, 1,\n",
       "       1, 1, 0, 1, 0, 1, 1, 0, 1, 0, 1, 1, 1, 1, 1, 0, 1, 0, 1, 1, 1, 1,\n",
       "       1, 1, 0, 0, 1, 0, 1, 1, 1, 1, 0, 1, 1, 1, 1, 0, 1, 1, 1, 0, 1, 1,\n",
       "       1, 0, 1, 1, 0, 1, 1, 0, 0, 1, 1, 0, 0, 0, 1, 1, 1, 1, 0, 1, 1, 1,\n",
       "       1, 1, 1, 1, 0, 0, 1, 1, 1, 1, 0, 1, 1, 0, 1, 1, 1, 1, 0, 1, 0, 1,\n",
       "       0, 1, 1, 0, 0, 1, 1, 1, 1, 1, 1, 1, 1, 1, 0, 1, 1, 0, 0, 0, 1, 0,\n",
       "       1, 0, 0, 1, 0, 1, 1, 1, 1, 0, 1, 0, 0, 0, 1, 1, 1, 0, 1, 0, 1, 1,\n",
       "       1, 1, 0, 0, 1, 1, 0, 1, 1, 1, 1, 0, 1, 1, 1, 1, 1, 1, 1, 0])"
      ]
     },
     "execution_count": 176,
     "metadata": {},
     "output_type": "execute_result"
    }
   ],
   "source": [
    "#lets use labelencoder to convert target class into integers\n",
    "from sklearn.preprocessing import LabelEncoder\n",
    "le=LabelEncoder()\n",
    "le.fit(y)\n",
    "y=le.transform(y)\n",
    "y"
   ]
  },
  {
   "cell_type": "code",
   "execution_count": 209,
   "metadata": {},
   "outputs": [],
   "source": [
    "#since it is imbalanced dataset so we will focus on auc-roc score\n",
    "from imblearn.over_sampling import SMOTE\n",
    "from sklearn.metrics import roc_auc_score\n",
    "from sklearn.model_selection import train_test_split\n",
    "def max_aucroc_score(clf,df_x,y):\n",
    "    max_aucroc_score=0\n",
    "    for r_state in range(42,100):\n",
    "        x_train, x_test, y_train, y_test = train_test_split(df_x, y,random_state = r_state,test_size=0.20,stratify=y)\n",
    "        x_train, y_train = SMOTE().fit_sample(x_train, y_train)\n",
    "        clf.fit(x_train,y_train)\n",
    "        y_pred = clf.predict(x_test)\n",
    "        aucroc_scr=roc_auc_score(y_test,y_pred)\n",
    "        print(\"auc roc score corresponding to \",r_state,\" is \",aucroc_scr)\n",
    "        if aucroc_scr>max_aucroc_score:\n",
    "            max_aucroc_score=aucroc_scr\n",
    "            final_r_state=r_state\n",
    "    print(\"max auc roc score corresponding to \",final_r_state,\" is \",max_aucroc_score)\n",
    "    return final_r_state"
   ]
  },
  {
   "cell_type": "code",
   "execution_count": 210,
   "metadata": {},
   "outputs": [
    {
     "name": "stdout",
     "output_type": "stream",
     "text": [
      "auc roc score corresponding to  42  is  0.7905572755417957\n",
      "auc roc score corresponding to  43  is  0.6880804953560371\n",
      "auc roc score corresponding to  44  is  0.698452012383901\n",
      "auc roc score corresponding to  45  is  0.6866873065015481\n",
      "auc roc score corresponding to  46  is  0.7116099071207429\n",
      "auc roc score corresponding to  47  is  0.6617647058823529\n",
      "auc roc score corresponding to  48  is  0.6603715170278638\n",
      "auc roc score corresponding to  49  is  0.7185758513931888\n",
      "auc roc score corresponding to  50  is  0.6835913312693498\n",
      "auc roc score corresponding to  51  is  0.6835913312693498\n",
      "auc roc score corresponding to  52  is  0.6922600619195046\n",
      "auc roc score corresponding to  53  is  0.6558823529411765\n",
      "auc roc score corresponding to  54  is  0.6794117647058824\n",
      "auc roc score corresponding to  55  is  0.7320433436532507\n",
      "auc roc score corresponding to  56  is  0.6004643962848297\n",
      "auc roc score corresponding to  57  is  0.6839009287925697\n",
      "auc roc score corresponding to  58  is  0.651702786377709\n",
      "auc roc score corresponding to  59  is  0.6662538699690402\n",
      "auc roc score corresponding to  60  is  0.6496904024767802\n",
      "auc roc score corresponding to  61  is  0.6222910216718266\n",
      "auc roc score corresponding to  62  is  0.6852941176470588\n",
      "auc roc score corresponding to  63  is  0.6749226006191951\n",
      "auc roc score corresponding to  64  is  0.7130030959752323\n",
      "auc roc score corresponding to  65  is  0.721671826625387\n",
      "auc roc score corresponding to  66  is  0.7113003095975232\n",
      "auc roc score corresponding to  67  is  0.6939628482972137\n",
      "auc roc score corresponding to  68  is  0.6486068111455108\n",
      "auc roc score corresponding to  69  is  0.6690402476780186\n",
      "auc roc score corresponding to  70  is  0.6236842105263158\n",
      "auc roc score corresponding to  71  is  0.6603715170278638\n",
      "auc roc score corresponding to  72  is  0.6998452012383901\n",
      "auc roc score corresponding to  73  is  0.6309597523219814\n",
      "auc roc score corresponding to  74  is  0.5973684210526315\n",
      "auc roc score corresponding to  75  is  0.6645510835913312\n",
      "auc roc score corresponding to  76  is  0.7289473684210527\n",
      "auc roc score corresponding to  77  is  0.7628482972136222\n",
      "auc roc score corresponding to  78  is  0.6662538699690402\n",
      "auc roc score corresponding to  79  is  0.7219814241486069\n",
      "auc roc score corresponding to  80  is  0.7085139318885448\n",
      "auc roc score corresponding to  81  is  0.7071207430340558\n",
      "auc roc score corresponding to  82  is  0.6354489164086687\n",
      "auc roc score corresponding to  83  is  0.7026315789473685\n",
      "auc roc score corresponding to  84  is  0.7012383900928792\n",
      "auc roc score corresponding to  85  is  0.6119195046439628\n",
      "auc roc score corresponding to  86  is  0.721671826625387\n",
      "auc roc score corresponding to  87  is  0.6105263157894737\n",
      "auc roc score corresponding to  88  is  0.6939628482972137\n",
      "auc roc score corresponding to  89  is  0.6998452012383901\n",
      "auc roc score corresponding to  90  is  0.7116099071207429\n",
      "auc roc score corresponding to  91  is  0.6880804953560371\n",
      "auc roc score corresponding to  92  is  0.6967492260061919\n",
      "auc roc score corresponding to  93  is  0.6589783281733747\n",
      "auc roc score corresponding to  94  is  0.7026315789473685\n",
      "auc roc score corresponding to  95  is  0.6544891640866873\n",
      "auc roc score corresponding to  96  is  0.7569659442724458\n",
      "auc roc score corresponding to  97  is  0.639938080495356\n",
      "auc roc score corresponding to  98  is  0.6136222910216718\n",
      "auc roc score corresponding to  99  is  0.7905572755417957\n",
      "max auc roc score corresponding to  42  is  0.7905572755417957\n"
     ]
    },
    {
     "data": {
      "text/plain": [
       "42"
      ]
     },
     "execution_count": 210,
     "metadata": {},
     "output_type": "execute_result"
    }
   ],
   "source": [
    "#Lets use logistic regression and check\n",
    "from sklearn.linear_model import LogisticRegression\n",
    "import warnings\n",
    "warnings.filterwarnings(\"ignore\")\n",
    "lg_clf=LogisticRegression()\n",
    "max_aucroc_score(lg_clf,x,y)"
   ]
  },
  {
   "cell_type": "code",
   "execution_count": 211,
   "metadata": {},
   "outputs": [
    {
     "name": "stdout",
     "output_type": "stream",
     "text": [
      "auc roc score corresponding to  42  is  0.7493808049535603\n",
      "auc roc score corresponding to  43  is  0.6572755417956657\n",
      "auc roc score corresponding to  44  is  0.6410216718266253\n",
      "auc roc score corresponding to  45  is  0.7026315789473685\n",
      "auc roc score corresponding to  46  is  0.6455108359133127\n",
      "auc roc score corresponding to  47  is  0.613312693498452\n",
      "auc roc score corresponding to  48  is  0.6558823529411765\n",
      "auc roc score corresponding to  49  is  0.7154798761609907\n",
      "auc roc score corresponding to  50  is  0.7099071207430339\n",
      "auc roc score corresponding to  51  is  0.6645510835913312\n",
      "auc roc score corresponding to  52  is  0.7040247678018576\n",
      "auc roc score corresponding to  53  is  0.6852941176470588\n",
      "auc roc score corresponding to  54  is  0.6908668730650155\n",
      "auc roc score corresponding to  55  is  0.6452012383900928\n",
      "auc roc score corresponding to  56  is  0.639938080495356\n",
      "auc roc score corresponding to  57  is  0.6676470588235295\n",
      "auc roc score corresponding to  58  is  0.5869969040247678\n",
      "auc roc score corresponding to  59  is  0.6191950464396284\n",
      "auc roc score corresponding to  60  is  0.6981424148606811\n",
      "auc roc score corresponding to  61  is  0.6530959752321981\n",
      "auc roc score corresponding to  62  is  0.6368421052631579\n",
      "auc roc score corresponding to  63  is  0.6174922600619195\n",
      "auc roc score corresponding to  64  is  0.7510835913312693\n",
      "auc roc score corresponding to  65  is  0.7465944272445821\n",
      "auc roc score corresponding to  66  is  0.6513931888544893\n",
      "auc roc score corresponding to  67  is  0.6808049535603716\n",
      "auc roc score corresponding to  68  is  0.6088235294117648\n",
      "auc roc score corresponding to  69  is  0.6309597523219814\n",
      "auc roc score corresponding to  70  is  0.6513931888544893\n",
      "auc roc score corresponding to  71  is  0.6880804953560371\n",
      "auc roc score corresponding to  72  is  0.5897832817337462\n",
      "auc roc score corresponding to  73  is  0.6891640866873064\n",
      "auc roc score corresponding to  74  is  0.5797213622291021\n",
      "auc roc score corresponding to  75  is  0.7026315789473685\n",
      "auc roc score corresponding to  76  is  0.7362229102167182\n",
      "auc roc score corresponding to  77  is  0.6233746130030959\n",
      "auc roc score corresponding to  78  is  0.6821981424148607\n",
      "auc roc score corresponding to  79  is  0.6541795665634675\n",
      "auc roc score corresponding to  80  is  0.6981424148606811\n",
      "auc roc score corresponding to  81  is  0.671517027863777\n",
      "auc roc score corresponding to  82  is  0.7157894736842105\n",
      "auc roc score corresponding to  83  is  0.6877708978328174\n",
      "auc roc score corresponding to  84  is  0.5825077399380805\n",
      "auc roc score corresponding to  85  is  0.6295665634674922\n",
      "auc roc score corresponding to  86  is  0.6718266253869969\n",
      "auc roc score corresponding to  87  is  0.6060371517027863\n",
      "auc roc score corresponding to  88  is  0.6746130030959752\n",
      "auc roc score corresponding to  89  is  0.7113003095975232\n",
      "auc roc score corresponding to  90  is  0.7493808049535603\n",
      "auc roc score corresponding to  91  is  0.7040247678018576\n",
      "auc roc score corresponding to  92  is  0.660061919504644\n",
      "auc roc score corresponding to  93  is  0.6894736842105263\n",
      "auc roc score corresponding to  94  is  0.6455108359133127\n",
      "auc roc score corresponding to  95  is  0.6309597523219814\n",
      "auc roc score corresponding to  96  is  0.6178018575851393\n",
      "auc roc score corresponding to  97  is  0.601857585139319\n",
      "auc roc score corresponding to  98  is  0.6413312693498452\n",
      "auc roc score corresponding to  99  is  0.6821981424148607\n",
      "max auc roc score corresponding to  64  is  0.7510835913312693\n"
     ]
    },
    {
     "data": {
      "text/plain": [
       "64"
      ]
     },
     "execution_count": 211,
     "metadata": {},
     "output_type": "execute_result"
    }
   ],
   "source": [
    "#lets chcek decision tree\n",
    "from sklearn.tree import DecisionTreeClassifier\n",
    "dc=DecisionTreeClassifier()\n",
    "max_aucroc_score(dc,df_x,y)"
   ]
  },
  {
   "cell_type": "code",
   "execution_count": 212,
   "metadata": {},
   "outputs": [
    {
     "data": {
      "text/plain": [
       "{'n_estimators': 100}"
      ]
     },
     "execution_count": 212,
     "metadata": {},
     "output_type": "execute_result"
    }
   ],
   "source": [
    "#lets use random forest\n",
    "from sklearn.ensemble import RandomForestClassifier\n",
    "from sklearn.model_selection import GridSearchCV\n",
    "parameters={\"n_estimators\":[10,100,500]}\n",
    "rf_clf=RandomForestClassifier()\n",
    "clf = GridSearchCV(rf_clf, parameters, cv=5,scoring=\"roc_auc\")\n",
    "clf.fit(df_x,y)\n",
    "clf.best_params_"
   ]
  },
  {
   "cell_type": "code",
   "execution_count": 213,
   "metadata": {},
   "outputs": [
    {
     "name": "stdout",
     "output_type": "stream",
     "text": [
      "auc roc score corresponding to  42  is  0.7773993808049535\n",
      "auc roc score corresponding to  43  is  0.6869969040247678\n",
      "auc roc score corresponding to  44  is  0.6970588235294117\n",
      "auc roc score corresponding to  45  is  0.6852941176470588\n",
      "auc roc score corresponding to  46  is  0.7029411764705882\n",
      "auc roc score corresponding to  47  is  0.6911764705882353\n",
      "auc roc score corresponding to  48  is  0.6503095975232198\n",
      "auc roc score corresponding to  49  is  0.7424148606811145\n",
      "auc roc score corresponding to  50  is  0.6939628482972137\n",
      "auc roc score corresponding to  51  is  0.7085139318885448\n",
      "auc roc score corresponding to  52  is  0.676625386996904\n",
      "auc roc score corresponding to  53  is  0.6956656346749226\n",
      "auc roc score corresponding to  54  is  0.6970588235294117\n",
      "auc roc score corresponding to  55  is  0.7247678018575852\n",
      "auc roc score corresponding to  56  is  0.6343653250773993\n",
      "auc roc score corresponding to  57  is  0.6693498452012383\n",
      "auc roc score corresponding to  58  is  0.6371517027863778\n",
      "auc roc score corresponding to  59  is  0.6458204334365325\n",
      "auc roc score corresponding to  60  is  0.7143962848297213\n",
      "auc roc score corresponding to  61  is  0.7001547987616099\n",
      "auc roc score corresponding to  62  is  0.701547987616099\n",
      "auc roc score corresponding to  63  is  0.651702786377709\n",
      "auc roc score corresponding to  64  is  0.771826625386997\n",
      "auc roc score corresponding to  65  is  0.7174922600619194\n",
      "auc roc score corresponding to  66  is  0.7130030959752323\n",
      "auc roc score corresponding to  67  is  0.7292569659442724\n",
      "auc roc score corresponding to  68  is  0.7043343653250774\n",
      "auc roc score corresponding to  69  is  0.7088235294117646\n",
      "auc roc score corresponding to  70  is  0.6544891640866873\n",
      "auc roc score corresponding to  71  is  0.6811145510835913\n",
      "auc roc score corresponding to  72  is  0.6852941176470588\n",
      "auc roc score corresponding to  73  is  0.7160990712074303\n",
      "auc roc score corresponding to  74  is  0.6561919504643963\n",
      "auc roc score corresponding to  75  is  0.7337461300309599\n",
      "auc roc score corresponding to  76  is  0.7891640866873064\n",
      "auc roc score corresponding to  77  is  0.723374613003096\n",
      "auc roc score corresponding to  78  is  0.7088235294117646\n",
      "auc roc score corresponding to  79  is  0.6575851393188854\n",
      "auc roc score corresponding to  80  is  0.6894736842105263\n",
      "auc roc score corresponding to  81  is  0.6970588235294117\n",
      "auc roc score corresponding to  82  is  0.7133126934984519\n",
      "auc roc score corresponding to  83  is  0.7320433436532507\n",
      "auc roc score corresponding to  84  is  0.688390092879257\n",
      "auc roc score corresponding to  85  is  0.664860681114551\n",
      "auc roc score corresponding to  86  is  0.7130030959752323\n",
      "auc roc score corresponding to  87  is  0.629876160990712\n",
      "auc roc score corresponding to  88  is  0.7306501547987616\n",
      "auc roc score corresponding to  89  is  0.7673374613003097\n",
      "auc roc score corresponding to  90  is  0.7029411764705882\n",
      "auc roc score corresponding to  91  is  0.6839009287925697\n",
      "auc roc score corresponding to  92  is  0.7130030959752323\n",
      "auc roc score corresponding to  93  is  0.7174922600619194\n",
      "auc roc score corresponding to  94  is  0.7088235294117646\n",
      "auc roc score corresponding to  95  is  0.6575851393188854\n",
      "auc roc score corresponding to  96  is  0.760061919504644\n",
      "auc roc score corresponding to  97  is  0.6561919504643963\n",
      "auc roc score corresponding to  98  is  0.6797213622291023\n",
      "auc roc score corresponding to  99  is  0.7261609907120743\n",
      "max auc roc score corresponding to  76  is  0.7891640866873064\n"
     ]
    },
    {
     "data": {
      "text/plain": [
       "76"
      ]
     },
     "execution_count": 213,
     "metadata": {},
     "output_type": "execute_result"
    }
   ],
   "source": [
    "rf_clf=RandomForestClassifier(n_estimators=100)\n",
    "max_aucroc_score(rf_clf,df_x,y)"
   ]
  },
  {
   "cell_type": "code",
   "execution_count": 214,
   "metadata": {},
   "outputs": [
    {
     "data": {
      "text/plain": [
       "{'n_neighbors': 24}"
      ]
     },
     "execution_count": 214,
     "metadata": {},
     "output_type": "execute_result"
    }
   ],
   "source": [
    "#Lets use KNN\n",
    "#For KNN we need to know the best value of k using grid search\n",
    "from sklearn.model_selection import GridSearchCV\n",
    "from sklearn.neighbors import KNeighborsClassifier\n",
    "import warnings\n",
    "warnings.filterwarnings(\"ignore\")\n",
    "kc=KNeighborsClassifier()\n",
    "neighbors={\"n_neighbors\":range(1,30)}\n",
    "clf = GridSearchCV(kc, neighbors, cv=5,scoring=\"roc_auc\")\n",
    "clf.fit(x,y)\n",
    "clf.best_params_"
   ]
  },
  {
   "cell_type": "code",
   "execution_count": 215,
   "metadata": {},
   "outputs": [
    {
     "name": "stdout",
     "output_type": "stream",
     "text": [
      "auc roc score corresponding to  42  is  0.7452012383900928\n",
      "auc roc score corresponding to  43  is  0.7143962848297213\n",
      "auc roc score corresponding to  44  is  0.638235294117647\n",
      "auc roc score corresponding to  45  is  0.6760061919504644\n",
      "auc roc score corresponding to  46  is  0.6441176470588235\n",
      "auc roc score corresponding to  47  is  0.6469040247678018\n",
      "auc roc score corresponding to  48  is  0.6264705882352941\n",
      "auc roc score corresponding to  49  is  0.6908668730650155\n",
      "auc roc score corresponding to  50  is  0.6569659442724458\n",
      "auc roc score corresponding to  51  is  0.6673374613003096\n",
      "auc roc score corresponding to  52  is  0.6289473684210527\n",
      "auc roc score corresponding to  53  is  0.698452012383901\n",
      "auc roc score corresponding to  54  is  0.6718266253869969\n",
      "auc roc score corresponding to  55  is  0.6967492260061919\n",
      "auc roc score corresponding to  56  is  0.6167182662538699\n",
      "auc roc score corresponding to  57  is  0.6278637770897834\n",
      "auc roc score corresponding to  58  is  0.6634674922600619\n",
      "auc roc score corresponding to  59  is  0.5897832817337462\n",
      "auc roc score corresponding to  60  is  0.6379256965944272\n",
      "auc roc score corresponding to  61  is  0.6808049535603716\n",
      "auc roc score corresponding to  62  is  0.660061919504644\n",
      "auc roc score corresponding to  63  is  0.6673374613003096\n",
      "auc roc score corresponding to  64  is  0.6102167182662539\n",
      "auc roc score corresponding to  65  is  0.6628482972136223\n",
      "auc roc score corresponding to  66  is  0.6351393188854488\n",
      "auc roc score corresponding to  67  is  0.6704334365325076\n",
      "auc roc score corresponding to  68  is  0.6763157894736842\n",
      "auc roc score corresponding to  69  is  0.6777089783281733\n",
      "auc roc score corresponding to  70  is  0.6160990712074305\n",
      "auc roc score corresponding to  71  is  0.6278637770897834\n",
      "auc roc score corresponding to  72  is  0.6718266253869969\n",
      "auc roc score corresponding to  73  is  0.7054179566563468\n",
      "auc roc score corresponding to  74  is  0.6119195046439628\n",
      "auc roc score corresponding to  75  is  0.6967492260061919\n",
      "auc roc score corresponding to  76  is  0.7421052631578948\n",
      "auc roc score corresponding to  77  is  0.6953560371517027\n",
      "auc roc score corresponding to  78  is  0.6586687306501546\n",
      "auc roc score corresponding to  79  is  0.6264705882352941\n",
      "auc roc score corresponding to  80  is  0.6379256965944272\n",
      "auc roc score corresponding to  81  is  0.7289473684210527\n",
      "auc roc score corresponding to  82  is  0.6808049535603716\n",
      "auc roc score corresponding to  83  is  0.7040247678018576\n",
      "auc roc score corresponding to  84  is  0.6763157894736842\n",
      "auc roc score corresponding to  85  is  0.6690402476780186\n",
      "auc roc score corresponding to  86  is  0.6922600619195046\n",
      "auc roc score corresponding to  87  is  0.5461300309597523\n",
      "auc roc score corresponding to  88  is  0.6804953560371517\n",
      "auc roc score corresponding to  89  is  0.6877708978328174\n",
      "auc roc score corresponding to  90  is  0.7057275541795665\n",
      "auc roc score corresponding to  91  is  0.6835913312693498\n",
      "auc roc score corresponding to  92  is  0.6880804953560371\n",
      "auc roc score corresponding to  93  is  0.6292569659442725\n",
      "auc roc score corresponding to  94  is  0.6687306501547987\n",
      "auc roc score corresponding to  95  is  0.6631578947368422\n",
      "auc roc score corresponding to  96  is  0.7348297213622291\n",
      "auc roc score corresponding to  97  is  0.6427244582043344\n",
      "auc roc score corresponding to  98  is  0.6413312693498452\n",
      "auc roc score corresponding to  99  is  0.6760061919504644\n",
      "max auc roc score corresponding to  42  is  0.7452012383900928\n"
     ]
    },
    {
     "data": {
      "text/plain": [
       "42"
      ]
     },
     "execution_count": 215,
     "metadata": {},
     "output_type": "execute_result"
    }
   ],
   "source": [
    "kc=KNeighborsClassifier(n_neighbors=24)\n",
    "max_aucroc_score(kc,x,y)"
   ]
  },
  {
   "cell_type": "code",
   "execution_count": 216,
   "metadata": {},
   "outputs": [
    {
     "data": {
      "text/plain": [
       "{'C': 0.001, 'kernel': 'rbf'}"
      ]
     },
     "execution_count": 216,
     "metadata": {},
     "output_type": "execute_result"
    }
   ],
   "source": [
    "#Lets use SVM\n",
    "from sklearn.svm import SVC\n",
    "svc=SVC()\n",
    "parameters={\"kernel\":[\"linear\", \"poly\", \"rbf\"],\"C\":[0.001,0.01,0.1,1,10]}\n",
    "clf = GridSearchCV(svc, parameters, cv=5,scoring=\"roc_auc\")\n",
    "clf.fit(x,y)\n",
    "clf.best_params_"
   ]
  },
  {
   "cell_type": "code",
   "execution_count": 217,
   "metadata": {},
   "outputs": [
    {
     "name": "stdout",
     "output_type": "stream",
     "text": [
      "auc roc score corresponding to  42  is  0.7673374613003097\n",
      "auc roc score corresponding to  43  is  0.6592879256965944\n",
      "auc roc score corresponding to  44  is  0.7119195046439628\n",
      "auc roc score corresponding to  45  is  0.7337461300309599\n",
      "auc roc score corresponding to  46  is  0.678328173374613\n",
      "auc roc score corresponding to  47  is  0.7292569659442724\n",
      "auc roc score corresponding to  48  is  0.653405572755418\n",
      "auc roc score corresponding to  49  is  0.7614551083591331\n",
      "auc roc score corresponding to  50  is  0.7001547987616099\n",
      "auc roc score corresponding to  51  is  0.7555727554179565\n",
      "auc roc score corresponding to  52  is  0.6099071207430341\n",
      "auc roc score corresponding to  53  is  0.6928792569659443\n",
      "auc roc score corresponding to  54  is  0.6894736842105263\n",
      "auc roc score corresponding to  55  is  0.7410216718266254\n",
      "auc roc score corresponding to  56  is  0.6388544891640867\n",
      "auc roc score corresponding to  57  is  0.6724458204334366\n",
      "auc roc score corresponding to  58  is  0.6119195046439628\n",
      "auc roc score corresponding to  59  is  0.6520123839009289\n",
      "auc roc score corresponding to  60  is  0.6821981424148607\n",
      "auc roc score corresponding to  61  is  0.6461300309597523\n",
      "auc roc score corresponding to  62  is  0.7309597523219815\n",
      "auc roc score corresponding to  63  is  0.6856037151702786\n",
      "auc roc score corresponding to  64  is  0.7040247678018576\n",
      "auc roc score corresponding to  65  is  0.7029411764705882\n",
      "auc roc score corresponding to  66  is  0.6821981424148607\n",
      "auc roc score corresponding to  67  is  0.6894736842105263\n",
      "auc roc score corresponding to  68  is  0.6856037151702786\n",
      "auc roc score corresponding to  69  is  0.6825077399380803\n",
      "auc roc score corresponding to  70  is  0.638235294117647\n",
      "auc roc score corresponding to  71  is  0.6651702786377709\n",
      "auc roc score corresponding to  72  is  0.6987616099071208\n",
      "auc roc score corresponding to  73  is  0.6732198142414861\n",
      "auc roc score corresponding to  74  is  0.5856037151702786\n",
      "auc roc score corresponding to  75  is  0.6808049535603716\n",
      "auc roc score corresponding to  76  is  0.7673374613003097\n",
      "auc roc score corresponding to  77  is  0.7631578947368421\n",
      "auc roc score corresponding to  78  is  0.6869969040247678\n",
      "auc roc score corresponding to  79  is  0.6320433436532507\n",
      "auc roc score corresponding to  80  is  0.6925696594427245\n",
      "auc roc score corresponding to  81  is  0.6897832817337461\n",
      "auc roc score corresponding to  82  is  0.676625386996904\n",
      "auc roc score corresponding to  83  is  0.6659442724458204\n",
      "auc roc score corresponding to  84  is  0.6914860681114552\n",
      "auc roc score corresponding to  85  is  0.6191950464396284\n",
      "auc roc score corresponding to  86  is  0.7379256965944272\n",
      "auc roc score corresponding to  87  is  0.5786377708978329\n",
      "auc roc score corresponding to  88  is  0.7126934984520124\n",
      "auc roc score corresponding to  89  is  0.6732198142414861\n",
      "auc roc score corresponding to  90  is  0.688390092879257\n",
      "auc roc score corresponding to  91  is  0.7074303405572755\n",
      "auc roc score corresponding to  92  is  0.7074303405572755\n",
      "auc roc score corresponding to  93  is  0.6544891640866873\n",
      "auc roc score corresponding to  94  is  0.6987616099071208\n",
      "auc roc score corresponding to  95  is  0.7046439628482972\n",
      "auc roc score corresponding to  96  is  0.7441176470588236\n",
      "auc roc score corresponding to  97  is  0.65\n",
      "auc roc score corresponding to  98  is  0.6295665634674922\n",
      "auc roc score corresponding to  99  is  0.7891640866873064\n",
      "max auc roc score corresponding to  99  is  0.7891640866873064\n"
     ]
    },
    {
     "data": {
      "text/plain": [
       "99"
      ]
     },
     "execution_count": 217,
     "metadata": {},
     "output_type": "execute_result"
    }
   ],
   "source": [
    "svc=SVC(kernel=\"rbf\",C=0.001)\n",
    "max_aucroc_score(svc,x,y)"
   ]
  },
  {
   "cell_type": "code",
   "execution_count": 218,
   "metadata": {},
   "outputs": [
    {
     "data": {
      "text/plain": [
       "{'learning_rate': 0.01, 'n_estimators': 100}"
      ]
     },
     "execution_count": 218,
     "metadata": {},
     "output_type": "execute_result"
    }
   ],
   "source": [
    "from sklearn.ensemble import GradientBoostingClassifier\n",
    "parameters={\"learning_rate\":[0.001,0.01,0.1,1],\"n_estimators\":[10,100,500,1000]}\n",
    "gb_clf=GradientBoostingClassifier()\n",
    "clf = GridSearchCV(gb_clf, parameters, cv=5,scoring=\"roc_auc\")\n",
    "clf.fit(df_x,y)\n",
    "clf.best_params_"
   ]
  },
  {
   "cell_type": "code",
   "execution_count": 219,
   "metadata": {
    "scrolled": true
   },
   "outputs": [
    {
     "name": "stdout",
     "output_type": "stream",
     "text": [
      "auc roc score corresponding to  42  is  0.7572755417956657\n",
      "auc roc score corresponding to  43  is  0.6651702786377709\n",
      "auc roc score corresponding to  44  is  0.6914860681114552\n",
      "auc roc score corresponding to  45  is  0.7105263157894737\n",
      "auc roc score corresponding to  46  is  0.678328173374613\n",
      "auc roc score corresponding to  47  is  0.7119195046439628\n",
      "auc roc score corresponding to  48  is  0.6651702786377709\n",
      "auc roc score corresponding to  49  is  0.7396284829721362\n",
      "auc roc score corresponding to  50  is  0.6987616099071208\n",
      "auc roc score corresponding to  51  is  0.7455108359133128\n",
      "auc roc score corresponding to  52  is  0.6825077399380803\n",
      "auc roc score corresponding to  53  is  0.7046439628482972\n",
      "auc roc score corresponding to  54  is  0.6987616099071208\n",
      "auc roc score corresponding to  55  is  0.7396284829721362\n",
      "auc roc score corresponding to  56  is  0.631578947368421\n",
      "auc roc score corresponding to  57  is  0.6724458204334366\n",
      "auc roc score corresponding to  58  is  0.6461300309597523\n",
      "auc roc score corresponding to  59  is  0.6388544891640867\n",
      "auc roc score corresponding to  60  is  0.7178018575851393\n",
      "auc roc score corresponding to  61  is  0.6520123839009289\n",
      "auc roc score corresponding to  62  is  0.7236842105263157\n",
      "auc roc score corresponding to  63  is  0.6856037151702786\n",
      "auc roc score corresponding to  64  is  0.7309597523219815\n",
      "auc roc score corresponding to  65  is  0.6987616099071208\n",
      "auc roc score corresponding to  66  is  0.7119195046439628\n",
      "auc roc score corresponding to  67  is  0.6797213622291023\n",
      "auc roc score corresponding to  68  is  0.6724458204334366\n",
      "auc roc score corresponding to  69  is  0.6797213622291023\n",
      "auc roc score corresponding to  70  is  0.6797213622291023\n",
      "auc roc score corresponding to  71  is  0.6651702786377709\n",
      "auc roc score corresponding to  72  is  0.7046439628482972\n",
      "auc roc score corresponding to  73  is  0.7119195046439628\n",
      "auc roc score corresponding to  74  is  0.6520123839009289\n",
      "auc roc score corresponding to  75  is  0.6856037151702786\n",
      "auc roc score corresponding to  76  is  0.7631578947368421\n",
      "auc roc score corresponding to  77  is  0.7572755417956657\n",
      "auc roc score corresponding to  78  is  0.6724458204334366\n",
      "auc roc score corresponding to  79  is  0.6738390092879256\n",
      "auc roc score corresponding to  80  is  0.736842105263158\n",
      "auc roc score corresponding to  81  is  0.7178018575851393\n",
      "auc roc score corresponding to  82  is  0.678328173374613\n",
      "auc roc score corresponding to  83  is  0.7469040247678018\n",
      "auc roc score corresponding to  84  is  0.6856037151702786\n",
      "auc roc score corresponding to  85  is  0.6651702786377709\n",
      "auc roc score corresponding to  86  is  0.7323529411764707\n",
      "auc roc score corresponding to  87  is  0.6052631578947368\n",
      "auc roc score corresponding to  88  is  0.7264705882352941\n",
      "auc roc score corresponding to  89  is  0.7441176470588236\n",
      "auc roc score corresponding to  90  is  0.7119195046439628\n",
      "auc roc score corresponding to  91  is  0.6987616099071208\n",
      "auc roc score corresponding to  92  is  0.6914860681114552\n",
      "auc roc score corresponding to  93  is  0.6914860681114552\n",
      "auc roc score corresponding to  94  is  0.6710526315789473\n",
      "auc roc score corresponding to  95  is  0.6710526315789473\n",
      "auc roc score corresponding to  96  is  0.7441176470588236\n",
      "auc roc score corresponding to  97  is  0.6651702786377709\n",
      "auc roc score corresponding to  98  is  0.6388544891640867\n",
      "auc roc score corresponding to  99  is  0.7586687306501548\n",
      "max auc roc score corresponding to  76  is  0.7631578947368421\n"
     ]
    },
    {
     "data": {
      "text/plain": [
       "76"
      ]
     },
     "execution_count": 219,
     "metadata": {},
     "output_type": "execute_result"
    }
   ],
   "source": [
    "gb_clf=GradientBoostingClassifier(learning_rate=0.01,n_estimators=100)\n",
    "max_aucroc_score(gb_clf,df_x,y)"
   ]
  },
  {
   "cell_type": "code",
   "execution_count": 220,
   "metadata": {},
   "outputs": [
    {
     "name": "stdout",
     "output_type": "stream",
     "text": [
      "auc roc score corresponding to  42  is  0.7434984520123838\n",
      "auc roc score corresponding to  43  is  0.6835913312693498\n",
      "auc roc score corresponding to  44  is  0.6469040247678018\n",
      "auc roc score corresponding to  45  is  0.6967492260061919\n",
      "auc roc score corresponding to  46  is  0.6894736842105263\n",
      "auc roc score corresponding to  47  is  0.6441176470588235\n",
      "auc roc score corresponding to  48  is  0.6119195046439628\n",
      "auc roc score corresponding to  49  is  0.6746130030959752\n",
      "auc roc score corresponding to  50  is  0.7130030959752323\n",
      "auc roc score corresponding to  51  is  0.7040247678018576\n",
      "auc roc score corresponding to  52  is  0.6981424148606811\n",
      "auc roc score corresponding to  53  is  0.6749226006191951\n",
      "auc roc score corresponding to  54  is  0.6452012383900928\n",
      "auc roc score corresponding to  55  is  0.6569659442724458\n",
      "auc roc score corresponding to  56  is  0.6690402476780186\n",
      "auc roc score corresponding to  57  is  0.6821981424148607\n",
      "auc roc score corresponding to  58  is  0.5942724458204334\n",
      "auc roc score corresponding to  59  is  0.5724458204334365\n",
      "auc roc score corresponding to  60  is  0.6804953560371517\n",
      "auc roc score corresponding to  61  is  0.6427244582043344\n",
      "auc roc score corresponding to  62  is  0.6939628482972137\n",
      "auc roc score corresponding to  63  is  0.6645510835913312\n",
      "auc roc score corresponding to  64  is  0.7362229102167182\n",
      "auc roc score corresponding to  65  is  0.6877708978328174\n",
      "auc roc score corresponding to  66  is  0.7303405572755417\n",
      "auc roc score corresponding to  67  is  0.6541795665634675\n",
      "auc roc score corresponding to  68  is  0.6236842105263158\n",
      "auc roc score corresponding to  69  is  0.6572755417956657\n",
      "auc roc score corresponding to  70  is  0.6455108359133127\n",
      "auc roc score corresponding to  71  is  0.721671826625387\n",
      "auc roc score corresponding to  72  is  0.5648606811145511\n",
      "auc roc score corresponding to  73  is  0.7026315789473685\n",
      "auc roc score corresponding to  74  is  0.625077399380805\n",
      "auc roc score corresponding to  75  is  0.6908668730650155\n",
      "auc roc score corresponding to  76  is  0.6718266253869969\n",
      "auc roc score corresponding to  77  is  0.6981424148606811\n",
      "auc roc score corresponding to  78  is  0.6718266253869969\n",
      "auc roc score corresponding to  79  is  0.6894736842105263\n",
      "auc roc score corresponding to  80  is  0.6936532507739939\n",
      "auc roc score corresponding to  81  is  0.6863777089783282\n",
      "auc roc score corresponding to  82  is  0.6880804953560371\n",
      "auc roc score corresponding to  83  is  0.6614551083591331\n",
      "auc roc score corresponding to  84  is  0.65\n",
      "auc roc score corresponding to  85  is  0.638235294117647\n",
      "auc roc score corresponding to  86  is  0.6760061919504644\n",
      "auc roc score corresponding to  87  is  0.6777089783281733\n",
      "auc roc score corresponding to  88  is  0.6995356037151703\n",
      "auc roc score corresponding to  89  is  0.6777089783281733\n",
      "auc roc score corresponding to  90  is  0.7157894736842105\n",
      "auc roc score corresponding to  91  is  0.6967492260061919\n",
      "auc roc score corresponding to  92  is  0.6205882352941177\n",
      "auc roc score corresponding to  93  is  0.7130030959752323\n",
      "auc roc score corresponding to  94  is  0.6617647058823529\n",
      "auc roc score corresponding to  95  is  0.6396284829721363\n",
      "auc roc score corresponding to  96  is  0.7071207430340558\n",
      "auc roc score corresponding to  97  is  0.6191950464396284\n",
      "auc roc score corresponding to  98  is  0.6441176470588235\n",
      "auc roc score corresponding to  99  is  0.7303405572755417\n",
      "max auc roc score corresponding to  42  is  0.7434984520123838\n"
     ]
    },
    {
     "data": {
      "text/plain": [
       "42"
      ]
     },
     "execution_count": 220,
     "metadata": {},
     "output_type": "execute_result"
    }
   ],
   "source": [
    "#Lets use ada boosting using decision tree as an estimator\n",
    "from sklearn.ensemble import AdaBoostClassifier\n",
    "#parameters={\"base_estimator\":[dc,lg_clf,svc],\"learning_rate\":[0.001,0.01,0.1,1],\"n_estimators\":[10,100,500,1000]}\n",
    "ada_clf=AdaBoostClassifier(base_estimator=dc)\n",
    "max_aucroc_score(ada_clf,df_x,y)"
   ]
  },
  {
   "cell_type": "code",
   "execution_count": 221,
   "metadata": {},
   "outputs": [
    {
     "name": "stdout",
     "output_type": "stream",
     "text": [
      "Mean roc auc score for logistic classifier:  0.7659329885800474\n",
      "standard deviation in roc auc score for logistic classifier:  0.0565295559617311\n",
      "[0.82443439 0.70165913 0.76911028 0.8320802  0.70238095]\n"
     ]
    }
   ],
   "source": [
    "#lets use cross_val_score for logistic regression\n",
    "from sklearn.model_selection import cross_val_score\n",
    "print(\"Mean roc auc score for logistic classifier: \",cross_val_score(lg_clf,x,y,cv=5,scoring=\"roc_auc\").mean())\n",
    "print(\"standard deviation in roc auc score for logistic classifier: \",cross_val_score(lg_clf,x,y,cv=5,scoring=\"roc_auc\").std())\n",
    "print(cross_val_score(lg_clf,x,y,cv=5,scoring=\"roc_auc\"))"
   ]
  },
  {
   "cell_type": "code",
   "execution_count": 222,
   "metadata": {},
   "outputs": [
    {
     "name": "stdout",
     "output_type": "stream",
     "text": [
      "Mean auc roc score for decision tree classifier:  0.6785066172217875\n",
      "standard deviation in auc roc score for decision tree classifier:  0.07378876806955435\n",
      "[0.73016591 0.54208145 0.68828321 0.7481203  0.65382206]\n"
     ]
    }
   ],
   "source": [
    "#lets use cross_val_score for decision tree\n",
    "print(\"Mean auc roc score for decision tree classifier: \",cross_val_score(dc,df_x,y,cv=5,scoring=\"roc_auc\").mean())\n",
    "print(\"standard deviation in auc roc score for decision tree classifier: \",cross_val_score(dc,df_x,y,cv=5,scoring=\"roc_auc\").std())\n",
    "print(cross_val_score(dc,df_x,y,cv=5,scoring=\"roc_auc\"))"
   ]
  },
  {
   "cell_type": "code",
   "execution_count": 223,
   "metadata": {},
   "outputs": [
    {
     "name": "stdout",
     "output_type": "stream",
     "text": [
      "Mean auc roc score for random forest classifier:  0.77059932069994\n",
      "standard deviation in auc roc score for random forest classifier:  0.05125532461457893\n",
      "[0.79517345 0.68778281 0.77474937 0.80780075 0.7612782 ]\n"
     ]
    }
   ],
   "source": [
    "#lets check cross_val_score for random forest\n",
    "print(\"Mean auc roc score for random forest classifier: \",cross_val_score(rf_clf,df_x,y,cv=5,scoring=\"roc_auc\").mean())\n",
    "print(\"standard deviation in auc roc score for random forest classifier: \",cross_val_score(rf_clf,df_x,y,cv=5,scoring=\"roc_auc\").std())\n",
    "print(cross_val_score(rf_clf,df_x,y,cv=5,scoring=\"roc_auc\"))"
   ]
  },
  {
   "cell_type": "code",
   "execution_count": 224,
   "metadata": {},
   "outputs": [
    {
     "name": "stdout",
     "output_type": "stream",
     "text": [
      "Mean roc auc score for knn classifier:  0.7464948854035542\n",
      "standard deviation in roc auc score for knn classifier:  0.039049217290296305\n",
      "[0.78552036 0.70180995 0.7379386  0.79793233 0.70927318]\n"
     ]
    }
   ],
   "source": [
    "#lets use cross_val_score for knn \n",
    "from sklearn.model_selection import cross_val_score\n",
    "print(\"Mean roc auc score for knn classifier: \",cross_val_score(kc,x,y,cv=5,scoring=\"roc_auc\").mean())\n",
    "print(\"standard deviation in roc auc score for knn classifier: \",cross_val_score(kc,x,y,cv=5,scoring=\"roc_auc\").std())\n",
    "print(cross_val_score(kc,x,y,cv=5,scoring=\"roc_auc\"))"
   ]
  },
  {
   "cell_type": "code",
   "execution_count": 225,
   "metadata": {},
   "outputs": [
    {
     "name": "stdout",
     "output_type": "stream",
     "text": [
      "Mean roc auc score for svm classifier:  0.7504558341555245\n",
      "standard deviation in roc auc score for svm classifier:  0.04278574437330382\n",
      "[0.74932127 0.67933635 0.7929198  0.79573935 0.73496241]\n"
     ]
    }
   ],
   "source": [
    "#lets use cross_val_score for svm\n",
    "from sklearn.model_selection import cross_val_score\n",
    "print(\"Mean roc auc score for svm classifier: \",cross_val_score(svc,x,y,cv=5,scoring=\"roc_auc\").mean())\n",
    "print(\"standard deviation in roc auc score for svm classifier: \",cross_val_score(svc,x,y,cv=5,scoring=\"roc_auc\").std())\n",
    "print(cross_val_score(svc,x,y,cv=5,scoring=\"roc_auc\"))"
   ]
  },
  {
   "cell_type": "code",
   "execution_count": 226,
   "metadata": {},
   "outputs": [
    {
     "name": "stdout",
     "output_type": "stream",
     "text": [
      "Mean auc roc score for gradient boosting classifier:  0.7544124451399994\n",
      "standard deviation in auc roc score for gradient boosting classifier:  0.0769952139107552\n",
      "[0.80512821 0.62639517 0.74530075 0.85620301 0.73903509]\n"
     ]
    }
   ],
   "source": [
    "#lets check cross_val_score for gradient boosting\n",
    "print(\"Mean auc roc score for gradient boosting classifier: \",cross_val_score(gb_clf,df_x,y,cv=5,scoring=\"roc_auc\").mean())\n",
    "print(\"standard deviation in auc roc score for gradient boosting classifier: \",cross_val_score(gb_clf,df_x,y,cv=5,scoring=\"roc_auc\").std())\n",
    "print(cross_val_score(gb_clf,df_x,y,cv=5,scoring=\"roc_auc\"))"
   ]
  },
  {
   "cell_type": "code",
   "execution_count": 239,
   "metadata": {},
   "outputs": [],
   "source": [
    "# we will use random forest as our final model\n",
    "# random state 76\n",
    "x_train, x_test, y_train, y_test = train_test_split(df_x, y,random_state = 76,test_size=0.20,stratify=y)\n",
    "x_train, y_train = SMOTE().fit_sample(x_train, y_train)\n",
    "rf_clf=RandomForestClassifier(n_estimators=100)\n",
    "rf_clf.fit(x_train,y_train)\n",
    "y_pred=rf_clf.predict(x_test)"
   ]
  },
  {
   "cell_type": "code",
   "execution_count": 240,
   "metadata": {},
   "outputs": [
    {
     "name": "stdout",
     "output_type": "stream",
     "text": [
      "Confusion matrix \n",
      " [[24 14]\n",
      " [ 8 77]]\n",
      "f1 score is :  0.8749999999999999\n",
      "classification report \n",
      "               precision    recall  f1-score   support\n",
      "\n",
      "           0       0.75      0.63      0.69        38\n",
      "           1       0.85      0.91      0.87        85\n",
      "\n",
      "   micro avg       0.82      0.82      0.82       123\n",
      "   macro avg       0.80      0.77      0.78       123\n",
      "weighted avg       0.82      0.82      0.82       123\n",
      "\n",
      "AUC ROC Score:  0.7687306501547987\n"
     ]
    }
   ],
   "source": [
    "from sklearn.metrics import confusion_matrix\n",
    "from sklearn.metrics import classification_report\n",
    "from sklearn.metrics import f1_score\n",
    "from sklearn.metrics import roc_auc_score\n",
    "print(\"Confusion matrix \\n\",confusion_matrix(y_test,y_pred))\n",
    "print(\"f1 score is : \",f1_score(y_test,y_pred))\n",
    "print(\"classification report \\n\",classification_report(y_test,y_pred))\n",
    "print(\"AUC ROC Score: \",roc_auc_score(y_test,y_pred))"
   ]
  },
  {
   "cell_type": "code",
   "execution_count": null,
   "metadata": {},
   "outputs": [],
   "source": [
    "from sklearn.externals import joblib \n",
    "  \n",
    "# Save the model as a pickle in a file \n",
    "joblib.dump(rf_clf, 'loan.pkl') "
   ]
  }
 ],
 "metadata": {
  "kernelspec": {
   "display_name": "Python 3",
   "language": "python",
   "name": "python3"
  },
  "language_info": {
   "codemirror_mode": {
    "name": "ipython",
    "version": 3
   },
   "file_extension": ".py",
   "mimetype": "text/x-python",
   "name": "python",
   "nbconvert_exporter": "python",
   "pygments_lexer": "ipython3",
   "version": "3.6.5"
  }
 },
 "nbformat": 4,
 "nbformat_minor": 2
}
